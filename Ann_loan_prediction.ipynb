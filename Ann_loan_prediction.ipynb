{
  "nbformat": 4,
  "nbformat_minor": 0,
  "metadata": {
    "colab": {
      "name": "Ann loan prediction.ipynb",
      "provenance": [],
      "collapsed_sections": []
    },
    "kernelspec": {
      "name": "python3",
      "display_name": "Python 3"
    }
  },
  "cells": [
    {
      "cell_type": "code",
      "metadata": {
        "id": "sUTAeYGtkLVk",
        "colab": {
          "base_uri": "https://localhost:8080/",
          "height": 34
        },
        "outputId": "13e3523d-9f3c-47f6-8666-119a1d622a65"
      },
      "source": [
        "import pandas as pd\n",
        "print(pd.__version__)"
      ],
      "execution_count": null,
      "outputs": [
        {
          "output_type": "stream",
          "text": [
            "1.0.5\n"
          ],
          "name": "stdout"
        }
      ]
    },
    {
      "cell_type": "code",
      "metadata": {
        "id": "MRLMPXLnlqxF",
        "colab": {
          "base_uri": "https://localhost:8080/",
          "height": 241
        },
        "outputId": "00df4b0d-98e3-4a3a-ea05-b155e65e90b1"
      },
      "source": [
        "data=pd.read_csv('/content/train_loan.csv')\n",
        "data.head()"
      ],
      "execution_count": null,
      "outputs": [
        {
          "output_type": "execute_result",
          "data": {
            "text/html": [
              "<div>\n",
              "<style scoped>\n",
              "    .dataframe tbody tr th:only-of-type {\n",
              "        vertical-align: middle;\n",
              "    }\n",
              "\n",
              "    .dataframe tbody tr th {\n",
              "        vertical-align: top;\n",
              "    }\n",
              "\n",
              "    .dataframe thead th {\n",
              "        text-align: right;\n",
              "    }\n",
              "</style>\n",
              "<table border=\"1\" class=\"dataframe\">\n",
              "  <thead>\n",
              "    <tr style=\"text-align: right;\">\n",
              "      <th></th>\n",
              "      <th>Loan_ID</th>\n",
              "      <th>Gender</th>\n",
              "      <th>Married</th>\n",
              "      <th>Dependents</th>\n",
              "      <th>Education</th>\n",
              "      <th>Self_Employed</th>\n",
              "      <th>ApplicantIncome</th>\n",
              "      <th>CoapplicantIncome</th>\n",
              "      <th>LoanAmount</th>\n",
              "      <th>Loan_Amount_Term</th>\n",
              "      <th>Credit_History</th>\n",
              "      <th>Property_Area</th>\n",
              "      <th>Loan_Status</th>\n",
              "    </tr>\n",
              "  </thead>\n",
              "  <tbody>\n",
              "    <tr>\n",
              "      <th>0</th>\n",
              "      <td>LP001002</td>\n",
              "      <td>Male</td>\n",
              "      <td>No</td>\n",
              "      <td>0</td>\n",
              "      <td>Graduate</td>\n",
              "      <td>No</td>\n",
              "      <td>5849</td>\n",
              "      <td>0.0</td>\n",
              "      <td>NaN</td>\n",
              "      <td>360.0</td>\n",
              "      <td>1.0</td>\n",
              "      <td>Urban</td>\n",
              "      <td>Y</td>\n",
              "    </tr>\n",
              "    <tr>\n",
              "      <th>1</th>\n",
              "      <td>LP001003</td>\n",
              "      <td>Male</td>\n",
              "      <td>Yes</td>\n",
              "      <td>1</td>\n",
              "      <td>Graduate</td>\n",
              "      <td>No</td>\n",
              "      <td>4583</td>\n",
              "      <td>1508.0</td>\n",
              "      <td>128.0</td>\n",
              "      <td>360.0</td>\n",
              "      <td>1.0</td>\n",
              "      <td>Rural</td>\n",
              "      <td>N</td>\n",
              "    </tr>\n",
              "    <tr>\n",
              "      <th>2</th>\n",
              "      <td>LP001005</td>\n",
              "      <td>Male</td>\n",
              "      <td>Yes</td>\n",
              "      <td>0</td>\n",
              "      <td>Graduate</td>\n",
              "      <td>Yes</td>\n",
              "      <td>3000</td>\n",
              "      <td>0.0</td>\n",
              "      <td>66.0</td>\n",
              "      <td>360.0</td>\n",
              "      <td>1.0</td>\n",
              "      <td>Urban</td>\n",
              "      <td>Y</td>\n",
              "    </tr>\n",
              "    <tr>\n",
              "      <th>3</th>\n",
              "      <td>LP001006</td>\n",
              "      <td>Male</td>\n",
              "      <td>Yes</td>\n",
              "      <td>0</td>\n",
              "      <td>Not Graduate</td>\n",
              "      <td>No</td>\n",
              "      <td>2583</td>\n",
              "      <td>2358.0</td>\n",
              "      <td>120.0</td>\n",
              "      <td>360.0</td>\n",
              "      <td>1.0</td>\n",
              "      <td>Urban</td>\n",
              "      <td>Y</td>\n",
              "    </tr>\n",
              "    <tr>\n",
              "      <th>4</th>\n",
              "      <td>LP001008</td>\n",
              "      <td>Male</td>\n",
              "      <td>No</td>\n",
              "      <td>0</td>\n",
              "      <td>Graduate</td>\n",
              "      <td>No</td>\n",
              "      <td>6000</td>\n",
              "      <td>0.0</td>\n",
              "      <td>141.0</td>\n",
              "      <td>360.0</td>\n",
              "      <td>1.0</td>\n",
              "      <td>Urban</td>\n",
              "      <td>Y</td>\n",
              "    </tr>\n",
              "  </tbody>\n",
              "</table>\n",
              "</div>"
            ],
            "text/plain": [
              "    Loan_ID Gender Married  ... Credit_History Property_Area Loan_Status\n",
              "0  LP001002   Male      No  ...            1.0         Urban           Y\n",
              "1  LP001003   Male     Yes  ...            1.0         Rural           N\n",
              "2  LP001005   Male     Yes  ...            1.0         Urban           Y\n",
              "3  LP001006   Male     Yes  ...            1.0         Urban           Y\n",
              "4  LP001008   Male      No  ...            1.0         Urban           Y\n",
              "\n",
              "[5 rows x 13 columns]"
            ]
          },
          "metadata": {
            "tags": []
          },
          "execution_count": 10
        }
      ]
    },
    {
      "cell_type": "code",
      "metadata": {
        "id": "ijVequdvpCME",
        "colab": {
          "base_uri": "https://localhost:8080/",
          "height": 34
        },
        "outputId": "95743fe1-1085-4a88-ec44-2260e1d51c95"
      },
      "source": [
        "data.shape"
      ],
      "execution_count": null,
      "outputs": [
        {
          "output_type": "execute_result",
          "data": {
            "text/plain": [
              "(614, 13)"
            ]
          },
          "metadata": {
            "tags": []
          },
          "execution_count": 11
        }
      ]
    },
    {
      "cell_type": "code",
      "metadata": {
        "id": "JoqW3euSpGpO"
      },
      "source": [
        "#data.isnull"
      ],
      "execution_count": null,
      "outputs": []
    },
    {
      "cell_type": "code",
      "metadata": {
        "id": "tKfgN77pqVzI"
      },
      "source": [
        "data['Gender'].fillna(data['Gender'].mode()[0],inplace=True)\n",
        "data['Married'].fillna(data['Married'].mode()[0],inplace=True)\n",
        "data['Dependents'].fillna(data['Dependents'].mode()[0],inplace=True)\n",
        "data['Married'].fillna(data['Married'].mode()[0],inplace=True)\n",
        "data['Education'].fillna(data['Education'].mode()[0],inplace=True)\n",
        "data['Self_Employed'].fillna(data['Self_Employed'].mode()[0],inplace=True)\n",
        "data['ApplicantIncome'].fillna(data['ApplicantIncome'].mode()[0],inplace=True)\n",
        "data['CoapplicantIncome'].fillna(data['CoapplicantIncome'].mode()[0],inplace=True)\n",
        "data['LoanAmount'].fillna(data['LoanAmount'].mode()[0],inplace=True)\n",
        "data['Loan_Amount_Term'].fillna(data['Loan_Amount_Term'].mode()[0],inplace=True)\n",
        "data['Credit_History'].fillna(data['Credit_History'].mode()[0],inplace=True)\n",
        "data['Property_Area'].fillna(data['Property_Area'].mode()[0],inplace=True)\n",
        "data['Loan_Status'].fillna(data['Loan_Status'].mode()[0],inplace=True)\n"
      ],
      "execution_count": null,
      "outputs": []
    },
    {
      "cell_type": "code",
      "metadata": {
        "id": "MxNlFgoLvR_i"
      },
      "source": [
        "data['Gender']=data['Gender'].replace({'Male': 1,'Female': 0})\n",
        "data['Married']=data['Married'].map({'Yes': 1,'No': 0})\n",
        "#data['Dependents']=data['Dependents'].map({'1':1,'2':2,'3':3})\n",
        "data['Education']=data['Education'].map({'Graduate':1,'Not Graduate': 0})\n",
        "data['Self_Employed']=data['Self_Employed'].map({'Yes':1,'No': 0})\n",
        "data['Property_Area']=data['Property_Area'].map({'Urban':1,'Rural':0})\n",
        "data['Loan_Status']=data['Loan_Status'].map({'Y':1,'N':0})\n"
      ],
      "execution_count": null,
      "outputs": []
    },
    {
      "cell_type": "code",
      "metadata": {
        "id": "YmUv4I7byyJm",
        "colab": {
          "base_uri": "https://localhost:8080/",
          "height": 224
        },
        "outputId": "68026747-639c-4885-a62b-7803f797ee8d"
      },
      "source": [
        "data.head()"
      ],
      "execution_count": null,
      "outputs": [
        {
          "output_type": "execute_result",
          "data": {
            "text/html": [
              "<div>\n",
              "<style scoped>\n",
              "    .dataframe tbody tr th:only-of-type {\n",
              "        vertical-align: middle;\n",
              "    }\n",
              "\n",
              "    .dataframe tbody tr th {\n",
              "        vertical-align: top;\n",
              "    }\n",
              "\n",
              "    .dataframe thead th {\n",
              "        text-align: right;\n",
              "    }\n",
              "</style>\n",
              "<table border=\"1\" class=\"dataframe\">\n",
              "  <thead>\n",
              "    <tr style=\"text-align: right;\">\n",
              "      <th></th>\n",
              "      <th>Loan_ID</th>\n",
              "      <th>Gender</th>\n",
              "      <th>Married</th>\n",
              "      <th>Dependents</th>\n",
              "      <th>Education</th>\n",
              "      <th>Self_Employed</th>\n",
              "      <th>ApplicantIncome</th>\n",
              "      <th>CoapplicantIncome</th>\n",
              "      <th>LoanAmount</th>\n",
              "      <th>Loan_Amount_Term</th>\n",
              "      <th>Credit_History</th>\n",
              "      <th>Property_Area</th>\n",
              "      <th>Loan_Status</th>\n",
              "    </tr>\n",
              "  </thead>\n",
              "  <tbody>\n",
              "    <tr>\n",
              "      <th>0</th>\n",
              "      <td>LP001002</td>\n",
              "      <td>1</td>\n",
              "      <td>0</td>\n",
              "      <td>0</td>\n",
              "      <td>1</td>\n",
              "      <td>0</td>\n",
              "      <td>5849</td>\n",
              "      <td>0.0</td>\n",
              "      <td>120.0</td>\n",
              "      <td>360.0</td>\n",
              "      <td>1.0</td>\n",
              "      <td>1.0</td>\n",
              "      <td>1</td>\n",
              "    </tr>\n",
              "    <tr>\n",
              "      <th>1</th>\n",
              "      <td>LP001003</td>\n",
              "      <td>1</td>\n",
              "      <td>1</td>\n",
              "      <td>1</td>\n",
              "      <td>1</td>\n",
              "      <td>0</td>\n",
              "      <td>4583</td>\n",
              "      <td>1508.0</td>\n",
              "      <td>128.0</td>\n",
              "      <td>360.0</td>\n",
              "      <td>1.0</td>\n",
              "      <td>0.0</td>\n",
              "      <td>0</td>\n",
              "    </tr>\n",
              "    <tr>\n",
              "      <th>2</th>\n",
              "      <td>LP001005</td>\n",
              "      <td>1</td>\n",
              "      <td>1</td>\n",
              "      <td>0</td>\n",
              "      <td>1</td>\n",
              "      <td>1</td>\n",
              "      <td>3000</td>\n",
              "      <td>0.0</td>\n",
              "      <td>66.0</td>\n",
              "      <td>360.0</td>\n",
              "      <td>1.0</td>\n",
              "      <td>1.0</td>\n",
              "      <td>1</td>\n",
              "    </tr>\n",
              "    <tr>\n",
              "      <th>3</th>\n",
              "      <td>LP001006</td>\n",
              "      <td>1</td>\n",
              "      <td>1</td>\n",
              "      <td>0</td>\n",
              "      <td>0</td>\n",
              "      <td>0</td>\n",
              "      <td>2583</td>\n",
              "      <td>2358.0</td>\n",
              "      <td>120.0</td>\n",
              "      <td>360.0</td>\n",
              "      <td>1.0</td>\n",
              "      <td>1.0</td>\n",
              "      <td>1</td>\n",
              "    </tr>\n",
              "    <tr>\n",
              "      <th>4</th>\n",
              "      <td>LP001008</td>\n",
              "      <td>1</td>\n",
              "      <td>0</td>\n",
              "      <td>0</td>\n",
              "      <td>1</td>\n",
              "      <td>0</td>\n",
              "      <td>6000</td>\n",
              "      <td>0.0</td>\n",
              "      <td>141.0</td>\n",
              "      <td>360.0</td>\n",
              "      <td>1.0</td>\n",
              "      <td>1.0</td>\n",
              "      <td>1</td>\n",
              "    </tr>\n",
              "  </tbody>\n",
              "</table>\n",
              "</div>"
            ],
            "text/plain": [
              "    Loan_ID  Gender  Married  ... Credit_History  Property_Area  Loan_Status\n",
              "0  LP001002       1        0  ...            1.0            1.0            1\n",
              "1  LP001003       1        1  ...            1.0            0.0            0\n",
              "2  LP001005       1        1  ...            1.0            1.0            1\n",
              "3  LP001006       1        1  ...            1.0            1.0            1\n",
              "4  LP001008       1        0  ...            1.0            1.0            1\n",
              "\n",
              "[5 rows x 13 columns]"
            ]
          },
          "metadata": {
            "tags": []
          },
          "execution_count": 15
        }
      ]
    },
    {
      "cell_type": "code",
      "metadata": {
        "id": "tYnBZgbu-jn-"
      },
      "source": [
        "data['Gender'] = (data['Gender']-data['Gender'].min())/(data['Gender'].max()-data['Gender'].min())\n"
      ],
      "execution_count": null,
      "outputs": []
    },
    {
      "cell_type": "code",
      "metadata": {
        "id": "ToM8n1IuCpGq"
      },
      "source": [
        "data['Married'] = (data['Married']-data['Married'].min())/(data['Married'].max()-data['Married'].min())\n",
        "\n"
      ],
      "execution_count": null,
      "outputs": []
    },
    {
      "cell_type": "code",
      "metadata": {
        "id": "PmWJooIGCsHm"
      },
      "source": [
        "\n",
        "#data['Dependents'] = (data['Dependents']-data['Dependents'].min())/(data['Dependents'].max()-data['Dependents'].min())\n"
      ],
      "execution_count": null,
      "outputs": []
    },
    {
      "cell_type": "code",
      "metadata": {
        "id": "7EYqujhwCwxO"
      },
      "source": [
        "data['Education'] = (data['Education']-data['Education'].min())/(data['Education'].max()-data['Education'].min())\n",
        "data['Self_Employed'] = (data['Self_Employed']-data['Self_Employed'].min())/(data['Self_Employed'].max()-data['Self_Employed'].min())\n",
        "data['ApplicantIncome'] = (data['ApplicantIncome']-data['ApplicantIncome'].min())/(data['ApplicantIncome'].max()-data['ApplicantIncome'].min())\n",
        "data['CoapplicantIncome'] = (data['CoapplicantIncome']-data['CoapplicantIncome'].min())/(data['CoapplicantIncome'].max()-data['CoapplicantIncome'].min())\n",
        "data['LoanAmount'] = (data['LoanAmount']-data['LoanAmount'].min())/(data['LoanAmount'].max()-data['LoanAmount'].min())\n",
        "data['Loan_Amount_Term'] = (data['Loan_Amount_Term']-data['Loan_Amount_Term'].min())/(data['Loan_Amount_Term'].max()-data['Loan_Amount_Term'].min())\n",
        "data['Credit_History'] = (data['Credit_History']-data['Credit_History'].min())/(data['Credit_History'].max()-data['Credit_History'].min())\n",
        "data['Property_Area'] = (data['Property_Area']-data['Property_Area'].min())/(data['Property_Area'].max()-data['Property_Area'].min())\n",
        "data['Loan_Status'] = (data['Loan_Status']-data['Loan_Status'].min())/(data['Loan_Status'].max()-data['Loan_Status'].min())"
      ],
      "execution_count": null,
      "outputs": []
    },
    {
      "cell_type": "code",
      "metadata": {
        "id": "1FjxasE4DzS-",
        "colab": {
          "base_uri": "https://localhost:8080/",
          "height": 224
        },
        "outputId": "81a3b7a1-9588-4d32-cb63-451011ddd9b0"
      },
      "source": [
        "data.head()"
      ],
      "execution_count": null,
      "outputs": [
        {
          "output_type": "execute_result",
          "data": {
            "text/html": [
              "<div>\n",
              "<style scoped>\n",
              "    .dataframe tbody tr th:only-of-type {\n",
              "        vertical-align: middle;\n",
              "    }\n",
              "\n",
              "    .dataframe tbody tr th {\n",
              "        vertical-align: top;\n",
              "    }\n",
              "\n",
              "    .dataframe thead th {\n",
              "        text-align: right;\n",
              "    }\n",
              "</style>\n",
              "<table border=\"1\" class=\"dataframe\">\n",
              "  <thead>\n",
              "    <tr style=\"text-align: right;\">\n",
              "      <th></th>\n",
              "      <th>Loan_ID</th>\n",
              "      <th>Gender</th>\n",
              "      <th>Married</th>\n",
              "      <th>Dependents</th>\n",
              "      <th>Education</th>\n",
              "      <th>Self_Employed</th>\n",
              "      <th>ApplicantIncome</th>\n",
              "      <th>CoapplicantIncome</th>\n",
              "      <th>LoanAmount</th>\n",
              "      <th>Loan_Amount_Term</th>\n",
              "      <th>Credit_History</th>\n",
              "      <th>Property_Area</th>\n",
              "      <th>Loan_Status</th>\n",
              "    </tr>\n",
              "  </thead>\n",
              "  <tbody>\n",
              "    <tr>\n",
              "      <th>0</th>\n",
              "      <td>LP001002</td>\n",
              "      <td>1.0</td>\n",
              "      <td>0.0</td>\n",
              "      <td>0</td>\n",
              "      <td>1.0</td>\n",
              "      <td>0.0</td>\n",
              "      <td>0.070489</td>\n",
              "      <td>0.000000</td>\n",
              "      <td>0.160637</td>\n",
              "      <td>0.74359</td>\n",
              "      <td>1.0</td>\n",
              "      <td>1.0</td>\n",
              "      <td>1.0</td>\n",
              "    </tr>\n",
              "    <tr>\n",
              "      <th>1</th>\n",
              "      <td>LP001003</td>\n",
              "      <td>1.0</td>\n",
              "      <td>1.0</td>\n",
              "      <td>1</td>\n",
              "      <td>1.0</td>\n",
              "      <td>0.0</td>\n",
              "      <td>0.054830</td>\n",
              "      <td>0.036192</td>\n",
              "      <td>0.172214</td>\n",
              "      <td>0.74359</td>\n",
              "      <td>1.0</td>\n",
              "      <td>0.0</td>\n",
              "      <td>0.0</td>\n",
              "    </tr>\n",
              "    <tr>\n",
              "      <th>2</th>\n",
              "      <td>LP001005</td>\n",
              "      <td>1.0</td>\n",
              "      <td>1.0</td>\n",
              "      <td>0</td>\n",
              "      <td>1.0</td>\n",
              "      <td>1.0</td>\n",
              "      <td>0.035250</td>\n",
              "      <td>0.000000</td>\n",
              "      <td>0.082489</td>\n",
              "      <td>0.74359</td>\n",
              "      <td>1.0</td>\n",
              "      <td>1.0</td>\n",
              "      <td>1.0</td>\n",
              "    </tr>\n",
              "    <tr>\n",
              "      <th>3</th>\n",
              "      <td>LP001006</td>\n",
              "      <td>1.0</td>\n",
              "      <td>1.0</td>\n",
              "      <td>0</td>\n",
              "      <td>0.0</td>\n",
              "      <td>0.0</td>\n",
              "      <td>0.030093</td>\n",
              "      <td>0.056592</td>\n",
              "      <td>0.160637</td>\n",
              "      <td>0.74359</td>\n",
              "      <td>1.0</td>\n",
              "      <td>1.0</td>\n",
              "      <td>1.0</td>\n",
              "    </tr>\n",
              "    <tr>\n",
              "      <th>4</th>\n",
              "      <td>LP001008</td>\n",
              "      <td>1.0</td>\n",
              "      <td>0.0</td>\n",
              "      <td>0</td>\n",
              "      <td>1.0</td>\n",
              "      <td>0.0</td>\n",
              "      <td>0.072356</td>\n",
              "      <td>0.000000</td>\n",
              "      <td>0.191027</td>\n",
              "      <td>0.74359</td>\n",
              "      <td>1.0</td>\n",
              "      <td>1.0</td>\n",
              "      <td>1.0</td>\n",
              "    </tr>\n",
              "  </tbody>\n",
              "</table>\n",
              "</div>"
            ],
            "text/plain": [
              "    Loan_ID  Gender  Married  ... Credit_History  Property_Area  Loan_Status\n",
              "0  LP001002     1.0      0.0  ...            1.0            1.0          1.0\n",
              "1  LP001003     1.0      1.0  ...            1.0            0.0          0.0\n",
              "2  LP001005     1.0      1.0  ...            1.0            1.0          1.0\n",
              "3  LP001006     1.0      1.0  ...            1.0            1.0          1.0\n",
              "4  LP001008     1.0      0.0  ...            1.0            1.0          1.0\n",
              "\n",
              "[5 rows x 13 columns]"
            ]
          },
          "metadata": {
            "tags": []
          },
          "execution_count": 19
        }
      ]
    },
    {
      "cell_type": "code",
      "metadata": {
        "id": "1q8DGD1KEO5R"
      },
      "source": [
        "data.to_csv('loan_data.csv',index=False)"
      ],
      "execution_count": null,
      "outputs": []
    },
    {
      "cell_type": "code",
      "metadata": {
        "id": "AKR-ryWf4ma6"
      },
      "source": [
        "import pandas as pd\n",
        "import numpy as np\n",
        "import sklearn\n",
        "from sklearn.model_selection import train_test_split\n",
        "from sklearn.metrics import accuracy_score\n",
        "import matplotlib.pyplot as plt\n",
        "%matplotlib inline\n"
      ],
      "execution_count": null,
      "outputs": []
    },
    {
      "cell_type": "code",
      "metadata": {
        "id": "PfmCcsO25f7W",
        "colab": {
          "base_uri": "https://localhost:8080/",
          "height": 34
        },
        "outputId": "3eccdd77-e9af-4fc6-b4e4-48f1b4625a5c"
      },
      "source": [
        "print(sklearn.__version__)"
      ],
      "execution_count": null,
      "outputs": [
        {
          "output_type": "stream",
          "text": [
            "0.22.2.post1\n"
          ],
          "name": "stdout"
        }
      ]
    },
    {
      "cell_type": "code",
      "metadata": {
        "id": "No1ylOY-57QR"
      },
      "source": [
        "#data.head()"
      ],
      "execution_count": null,
      "outputs": []
    },
    {
      "cell_type": "code",
      "metadata": {
        "id": "EI_hMpYL6Ojh",
        "colab": {
          "base_uri": "https://localhost:8080/",
          "height": 255
        },
        "outputId": "581070e8-c96f-40e9-c63d-375fb3d96a67"
      },
      "source": [
        "data.dtypes"
      ],
      "execution_count": null,
      "outputs": [
        {
          "output_type": "execute_result",
          "data": {
            "text/plain": [
              "Loan_ID               object\n",
              "Gender               float64\n",
              "Married              float64\n",
              "Dependents            object\n",
              "Education            float64\n",
              "Self_Employed        float64\n",
              "ApplicantIncome      float64\n",
              "CoapplicantIncome    float64\n",
              "LoanAmount           float64\n",
              "Loan_Amount_Term     float64\n",
              "Credit_History       float64\n",
              "Property_Area        float64\n",
              "Loan_Status          float64\n",
              "dtype: object"
            ]
          },
          "metadata": {
            "tags": []
          },
          "execution_count": 21
        }
      ]
    },
    {
      "cell_type": "code",
      "metadata": {
        "id": "IFUz_pgzk0gy"
      },
      "source": [
        "data1 = data.drop(['Dependents','Loan_ID'],axis=1)\n",
        "#data1.head()\n"
      ],
      "execution_count": null,
      "outputs": []
    },
    {
      "cell_type": "code",
      "metadata": {
        "id": "l4mq3T5-l1lv"
      },
      "source": [
        "X=data1.drop('Loan_Status',axis=1)\n",
        "y=data1['Loan_Status']\n",
        "x_train,x_test,y_train,y_test = train_test_split(X,y,stratify=data1['Loan_Status'],random_state=10,test_size=0.3)"
      ],
      "execution_count": null,
      "outputs": []
    },
    {
      "cell_type": "code",
      "metadata": {
        "id": "-mJg7ONCnUpD",
        "colab": {
          "base_uri": "https://localhost:8080/",
          "height": 34
        },
        "outputId": "14de23f4-0f08-43d6-a292-31bda472e5fa"
      },
      "source": [
        "x_train.shape,x_test.shape,y_train.shape,y_test.shape"
      ],
      "execution_count": null,
      "outputs": [
        {
          "output_type": "execute_result",
          "data": {
            "text/plain": [
              "((429, 10), (185, 10), (429,), (185,))"
            ]
          },
          "metadata": {
            "tags": []
          },
          "execution_count": 52
        }
      ]
    },
    {
      "cell_type": "code",
      "metadata": {
        "id": "rA8Tp8_cn3vP",
        "colab": {
          "base_uri": "https://localhost:8080/",
          "height": 34
        },
        "outputId": "48c1deff-d319-4e1e-bd0d-573af9c984be"
      },
      "source": [
        "import keras\n",
        "print(keras.__version__)"
      ],
      "execution_count": null,
      "outputs": [
        {
          "output_type": "stream",
          "text": [
            "2.4.3\n"
          ],
          "name": "stdout"
        }
      ]
    },
    {
      "cell_type": "code",
      "metadata": {
        "id": "iyoxfeHVoKY0",
        "colab": {
          "base_uri": "https://localhost:8080/",
          "height": 34
        },
        "outputId": "3e06cbda-ad79-4be3-cbbe-79b70ed7bd82"
      },
      "source": [
        "import tensorflow as tf\n",
        "print(tf.__version__)"
      ],
      "execution_count": null,
      "outputs": [
        {
          "output_type": "stream",
          "text": [
            "2.3.0\n"
          ],
          "name": "stdout"
        }
      ]
    },
    {
      "cell_type": "code",
      "metadata": {
        "id": "Mgkw-HLqoetS"
      },
      "source": [
        "from keras.models import Sequential\n",
        "from keras.layers import InputLayer,Dense"
      ],
      "execution_count": null,
      "outputs": []
    },
    {
      "cell_type": "code",
      "metadata": {
        "id": "FFIjV5dGpx7a",
        "colab": {
          "base_uri": "https://localhost:8080/",
          "height": 34
        },
        "outputId": "b66af337-109a-4eed-c52d-7fa381724f7b"
      },
      "source": [
        "x_train.shape\n",
        "x_train.shape[1]"
      ],
      "execution_count": null,
      "outputs": [
        {
          "output_type": "execute_result",
          "data": {
            "text/plain": [
              "10"
            ]
          },
          "metadata": {
            "tags": []
          },
          "execution_count": 56
        }
      ]
    },
    {
      "cell_type": "code",
      "metadata": {
        "id": "O0q882tHqG_P"
      },
      "source": [
        "input_neurons = x_train.shape[1]\n",
        "output_neurons = 1"
      ],
      "execution_count": null,
      "outputs": []
    },
    {
      "cell_type": "code",
      "metadata": {
        "id": "w4lURoLuqsG8"
      },
      "source": [
        "number_of_hidden_layers = 2\n",
        "neuron_hidden_layer_1 = 10\n",
        "neuron_hidden_layer_2 = 5"
      ],
      "execution_count": null,
      "outputs": []
    },
    {
      "cell_type": "code",
      "metadata": {
        "id": "y7vlyWDbrCGr"
      },
      "source": [
        "model = Sequential()\n",
        "model.add(InputLayer(input_shape=(input_neurons,)))\n",
        "model.add(Dense(units=neuron_hidden_layer_1,activation='relu'))\n",
        "model.add(Dense(units=neuron_hidden_layer_2,activation='relu'))\n",
        "model.add(Dense(units=output_neurons,activation='sigmoid'))\n"
      ],
      "execution_count": null,
      "outputs": []
    },
    {
      "cell_type": "code",
      "metadata": {
        "id": "O5e4FC4vscsm",
        "colab": {
          "base_uri": "https://localhost:8080/",
          "height": 255
        },
        "outputId": "2bee43c7-cf7b-485b-9119-898e49c6a378"
      },
      "source": [
        "model.summary()"
      ],
      "execution_count": null,
      "outputs": [
        {
          "output_type": "stream",
          "text": [
            "Model: \"sequential_1\"\n",
            "_________________________________________________________________\n",
            "Layer (type)                 Output Shape              Param #   \n",
            "=================================================================\n",
            "dense_3 (Dense)              (None, 10)                110       \n",
            "_________________________________________________________________\n",
            "dense_4 (Dense)              (None, 5)                 55        \n",
            "_________________________________________________________________\n",
            "dense_5 (Dense)              (None, 1)                 6         \n",
            "=================================================================\n",
            "Total params: 171\n",
            "Trainable params: 171\n",
            "Non-trainable params: 0\n",
            "_________________________________________________________________\n"
          ],
          "name": "stdout"
        }
      ]
    },
    {
      "cell_type": "code",
      "metadata": {
        "id": "hJi9GoM0tqop",
        "colab": {
          "base_uri": "https://localhost:8080/",
          "height": 34
        },
        "outputId": "6db509fb-6de7-4fe0-84c1-7d41979211ae"
      },
      "source": [
        "input_neurons*neuron_hidden_layer_1"
      ],
      "execution_count": null,
      "outputs": [
        {
          "output_type": "execute_result",
          "data": {
            "text/plain": [
              "100"
            ]
          },
          "metadata": {
            "tags": []
          },
          "execution_count": 61
        }
      ]
    },
    {
      "cell_type": "code",
      "metadata": {
        "id": "sJFOHEoItwpM",
        "colab": {
          "base_uri": "https://localhost:8080/",
          "height": 34
        },
        "outputId": "739be851-458b-4a30-8781-1a3956ef9505"
      },
      "source": [
        "input_neurons*neuron_hidden_layer_1+10"
      ],
      "execution_count": null,
      "outputs": [
        {
          "output_type": "execute_result",
          "data": {
            "text/plain": [
              "110"
            ]
          },
          "metadata": {
            "tags": []
          },
          "execution_count": 62
        }
      ]
    },
    {
      "cell_type": "code",
      "metadata": {
        "id": "_NBvMx--t5ZL",
        "colab": {
          "base_uri": "https://localhost:8080/",
          "height": 34
        },
        "outputId": "f477d4ea-48b0-4085-f9e8-f7f4dc1b61f6"
      },
      "source": [
        "neuron_hidden_layer_1*neuron_hidden_layer_2+5"
      ],
      "execution_count": null,
      "outputs": [
        {
          "output_type": "execute_result",
          "data": {
            "text/plain": [
              "55"
            ]
          },
          "metadata": {
            "tags": []
          },
          "execution_count": 63
        }
      ]
    },
    {
      "cell_type": "code",
      "metadata": {
        "id": "AjHr32gWuEcr",
        "colab": {
          "base_uri": "https://localhost:8080/",
          "height": 34
        },
        "outputId": "ca4d986c-9d94-4c32-cc22-06a98507f9e0"
      },
      "source": [
        "neuron_hidden_layer_2*output_neurons + 1"
      ],
      "execution_count": null,
      "outputs": [
        {
          "output_type": "execute_result",
          "data": {
            "text/plain": [
              "6"
            ]
          },
          "metadata": {
            "tags": []
          },
          "execution_count": 64
        }
      ]
    },
    {
      "cell_type": "code",
      "metadata": {
        "id": "UTwUZzNsuK2j"
      },
      "source": [
        "model.compile(loss= 'binary_crossentropy', optimizer = 'Adam',metrics=['accuracy'])"
      ],
      "execution_count": null,
      "outputs": []
    },
    {
      "cell_type": "code",
      "metadata": {
        "id": "qVdVHU8gvQ12",
        "colab": {
          "base_uri": "https://localhost:8080/",
          "height": 1000
        },
        "outputId": "4db133f0-caeb-4c8b-8a49-79ce3d84dac4"
      },
      "source": [
        "model_history = model.fit(x_train,y_train,validation_data=(x_test,y_test),epochs=100)"
      ],
      "execution_count": null,
      "outputs": [
        {
          "output_type": "stream",
          "text": [
            "Epoch 1/100\n",
            "14/14 [==============================] - 0s 26ms/step - loss: nan - accuracy: 0.3124 - val_loss: nan - val_accuracy: 0.3135\n",
            "Epoch 2/100\n",
            "14/14 [==============================] - 0s 2ms/step - loss: nan - accuracy: 0.3124 - val_loss: nan - val_accuracy: 0.3135\n",
            "Epoch 3/100\n",
            "14/14 [==============================] - 0s 2ms/step - loss: nan - accuracy: 0.3124 - val_loss: nan - val_accuracy: 0.3135\n",
            "Epoch 4/100\n",
            "14/14 [==============================] - 0s 2ms/step - loss: nan - accuracy: 0.3124 - val_loss: nan - val_accuracy: 0.3135\n",
            "Epoch 5/100\n",
            "14/14 [==============================] - 0s 2ms/step - loss: nan - accuracy: 0.3124 - val_loss: nan - val_accuracy: 0.3135\n",
            "Epoch 6/100\n",
            "14/14 [==============================] - 0s 2ms/step - loss: nan - accuracy: 0.3124 - val_loss: nan - val_accuracy: 0.3135\n",
            "Epoch 7/100\n",
            "14/14 [==============================] - 0s 3ms/step - loss: nan - accuracy: 0.3124 - val_loss: nan - val_accuracy: 0.3135\n",
            "Epoch 8/100\n",
            "14/14 [==============================] - 0s 2ms/step - loss: nan - accuracy: 0.3124 - val_loss: nan - val_accuracy: 0.3135\n",
            "Epoch 9/100\n",
            "14/14 [==============================] - 0s 3ms/step - loss: nan - accuracy: 0.3124 - val_loss: nan - val_accuracy: 0.3135\n",
            "Epoch 10/100\n",
            "14/14 [==============================] - 0s 2ms/step - loss: nan - accuracy: 0.3124 - val_loss: nan - val_accuracy: 0.3135\n",
            "Epoch 11/100\n",
            "14/14 [==============================] - 0s 2ms/step - loss: nan - accuracy: 0.3124 - val_loss: nan - val_accuracy: 0.3135\n",
            "Epoch 12/100\n",
            "14/14 [==============================] - 0s 2ms/step - loss: nan - accuracy: 0.3124 - val_loss: nan - val_accuracy: 0.3135\n",
            "Epoch 13/100\n",
            "14/14 [==============================] - 0s 2ms/step - loss: nan - accuracy: 0.3124 - val_loss: nan - val_accuracy: 0.3135\n",
            "Epoch 14/100\n",
            "14/14 [==============================] - 0s 2ms/step - loss: nan - accuracy: 0.3124 - val_loss: nan - val_accuracy: 0.3135\n",
            "Epoch 15/100\n",
            "14/14 [==============================] - 0s 2ms/step - loss: nan - accuracy: 0.3124 - val_loss: nan - val_accuracy: 0.3135\n",
            "Epoch 16/100\n",
            "14/14 [==============================] - 0s 2ms/step - loss: nan - accuracy: 0.3124 - val_loss: nan - val_accuracy: 0.3135\n",
            "Epoch 17/100\n",
            "14/14 [==============================] - 0s 2ms/step - loss: nan - accuracy: 0.3124 - val_loss: nan - val_accuracy: 0.3135\n",
            "Epoch 18/100\n",
            "14/14 [==============================] - 0s 2ms/step - loss: nan - accuracy: 0.3124 - val_loss: nan - val_accuracy: 0.3135\n",
            "Epoch 19/100\n",
            "14/14 [==============================] - 0s 2ms/step - loss: nan - accuracy: 0.3124 - val_loss: nan - val_accuracy: 0.3135\n",
            "Epoch 20/100\n",
            "14/14 [==============================] - 0s 2ms/step - loss: nan - accuracy: 0.3124 - val_loss: nan - val_accuracy: 0.3135\n",
            "Epoch 21/100\n",
            "14/14 [==============================] - 0s 2ms/step - loss: nan - accuracy: 0.3124 - val_loss: nan - val_accuracy: 0.3135\n",
            "Epoch 22/100\n",
            "14/14 [==============================] - 0s 3ms/step - loss: nan - accuracy: 0.3124 - val_loss: nan - val_accuracy: 0.3135\n",
            "Epoch 23/100\n",
            "14/14 [==============================] - 0s 2ms/step - loss: nan - accuracy: 0.3124 - val_loss: nan - val_accuracy: 0.3135\n",
            "Epoch 24/100\n",
            "14/14 [==============================] - 0s 2ms/step - loss: nan - accuracy: 0.3124 - val_loss: nan - val_accuracy: 0.3135\n",
            "Epoch 25/100\n",
            "14/14 [==============================] - 0s 2ms/step - loss: nan - accuracy: 0.3124 - val_loss: nan - val_accuracy: 0.3135\n",
            "Epoch 26/100\n",
            "14/14 [==============================] - 0s 3ms/step - loss: nan - accuracy: 0.3124 - val_loss: nan - val_accuracy: 0.3135\n",
            "Epoch 27/100\n",
            "14/14 [==============================] - 0s 2ms/step - loss: nan - accuracy: 0.3124 - val_loss: nan - val_accuracy: 0.3135\n",
            "Epoch 28/100\n",
            "14/14 [==============================] - 0s 2ms/step - loss: nan - accuracy: 0.3124 - val_loss: nan - val_accuracy: 0.3135\n",
            "Epoch 29/100\n",
            "14/14 [==============================] - 0s 2ms/step - loss: nan - accuracy: 0.3124 - val_loss: nan - val_accuracy: 0.3135\n",
            "Epoch 30/100\n",
            "14/14 [==============================] - 0s 2ms/step - loss: nan - accuracy: 0.3124 - val_loss: nan - val_accuracy: 0.3135\n",
            "Epoch 31/100\n",
            "14/14 [==============================] - 0s 2ms/step - loss: nan - accuracy: 0.3124 - val_loss: nan - val_accuracy: 0.3135\n",
            "Epoch 32/100\n",
            "14/14 [==============================] - 0s 2ms/step - loss: nan - accuracy: 0.3124 - val_loss: nan - val_accuracy: 0.3135\n",
            "Epoch 33/100\n",
            "14/14 [==============================] - 0s 2ms/step - loss: nan - accuracy: 0.3124 - val_loss: nan - val_accuracy: 0.3135\n",
            "Epoch 34/100\n",
            "14/14 [==============================] - 0s 2ms/step - loss: nan - accuracy: 0.3124 - val_loss: nan - val_accuracy: 0.3135\n",
            "Epoch 35/100\n",
            "14/14 [==============================] - 0s 2ms/step - loss: nan - accuracy: 0.3124 - val_loss: nan - val_accuracy: 0.3135\n",
            "Epoch 36/100\n",
            "14/14 [==============================] - 0s 3ms/step - loss: nan - accuracy: 0.3124 - val_loss: nan - val_accuracy: 0.3135\n",
            "Epoch 37/100\n",
            "14/14 [==============================] - 0s 2ms/step - loss: nan - accuracy: 0.3124 - val_loss: nan - val_accuracy: 0.3135\n",
            "Epoch 38/100\n",
            "14/14 [==============================] - 0s 2ms/step - loss: nan - accuracy: 0.3124 - val_loss: nan - val_accuracy: 0.3135\n",
            "Epoch 39/100\n",
            "14/14 [==============================] - 0s 2ms/step - loss: nan - accuracy: 0.3124 - val_loss: nan - val_accuracy: 0.3135\n",
            "Epoch 40/100\n",
            "14/14 [==============================] - 0s 2ms/step - loss: nan - accuracy: 0.3124 - val_loss: nan - val_accuracy: 0.3135\n",
            "Epoch 41/100\n",
            "14/14 [==============================] - 0s 2ms/step - loss: nan - accuracy: 0.3124 - val_loss: nan - val_accuracy: 0.3135\n",
            "Epoch 42/100\n",
            "14/14 [==============================] - 0s 2ms/step - loss: nan - accuracy: 0.3124 - val_loss: nan - val_accuracy: 0.3135\n",
            "Epoch 43/100\n",
            "14/14 [==============================] - 0s 2ms/step - loss: nan - accuracy: 0.3124 - val_loss: nan - val_accuracy: 0.3135\n",
            "Epoch 44/100\n",
            "14/14 [==============================] - 0s 2ms/step - loss: nan - accuracy: 0.3124 - val_loss: nan - val_accuracy: 0.3135\n",
            "Epoch 45/100\n",
            "14/14 [==============================] - 0s 2ms/step - loss: nan - accuracy: 0.3124 - val_loss: nan - val_accuracy: 0.3135\n",
            "Epoch 46/100\n",
            "14/14 [==============================] - 0s 2ms/step - loss: nan - accuracy: 0.3124 - val_loss: nan - val_accuracy: 0.3135\n",
            "Epoch 47/100\n",
            "14/14 [==============================] - 0s 2ms/step - loss: nan - accuracy: 0.3124 - val_loss: nan - val_accuracy: 0.3135\n",
            "Epoch 48/100\n",
            "14/14 [==============================] - 0s 2ms/step - loss: nan - accuracy: 0.3124 - val_loss: nan - val_accuracy: 0.3135\n",
            "Epoch 49/100\n",
            "14/14 [==============================] - 0s 2ms/step - loss: nan - accuracy: 0.3124 - val_loss: nan - val_accuracy: 0.3135\n",
            "Epoch 50/100\n",
            "14/14 [==============================] - 0s 2ms/step - loss: nan - accuracy: 0.3124 - val_loss: nan - val_accuracy: 0.3135\n",
            "Epoch 51/100\n",
            "14/14 [==============================] - 0s 2ms/step - loss: nan - accuracy: 0.3124 - val_loss: nan - val_accuracy: 0.3135\n",
            "Epoch 52/100\n",
            "14/14 [==============================] - 0s 2ms/step - loss: nan - accuracy: 0.3124 - val_loss: nan - val_accuracy: 0.3135\n",
            "Epoch 53/100\n",
            "14/14 [==============================] - 0s 2ms/step - loss: nan - accuracy: 0.3124 - val_loss: nan - val_accuracy: 0.3135\n",
            "Epoch 54/100\n",
            "14/14 [==============================] - 0s 2ms/step - loss: nan - accuracy: 0.3124 - val_loss: nan - val_accuracy: 0.3135\n",
            "Epoch 55/100\n",
            "14/14 [==============================] - 0s 2ms/step - loss: nan - accuracy: 0.3124 - val_loss: nan - val_accuracy: 0.3135\n",
            "Epoch 56/100\n",
            "14/14 [==============================] - 0s 3ms/step - loss: nan - accuracy: 0.3124 - val_loss: nan - val_accuracy: 0.3135\n",
            "Epoch 57/100\n",
            "14/14 [==============================] - 0s 3ms/step - loss: nan - accuracy: 0.3124 - val_loss: nan - val_accuracy: 0.3135\n",
            "Epoch 58/100\n",
            "14/14 [==============================] - 0s 3ms/step - loss: nan - accuracy: 0.3124 - val_loss: nan - val_accuracy: 0.3135\n",
            "Epoch 59/100\n",
            "14/14 [==============================] - 0s 2ms/step - loss: nan - accuracy: 0.3124 - val_loss: nan - val_accuracy: 0.3135\n",
            "Epoch 60/100\n",
            "14/14 [==============================] - 0s 4ms/step - loss: nan - accuracy: 0.3124 - val_loss: nan - val_accuracy: 0.3135\n",
            "Epoch 61/100\n",
            "14/14 [==============================] - 0s 2ms/step - loss: nan - accuracy: 0.3124 - val_loss: nan - val_accuracy: 0.3135\n",
            "Epoch 62/100\n",
            "14/14 [==============================] - 0s 2ms/step - loss: nan - accuracy: 0.3124 - val_loss: nan - val_accuracy: 0.3135\n",
            "Epoch 63/100\n",
            "14/14 [==============================] - 0s 2ms/step - loss: nan - accuracy: 0.3124 - val_loss: nan - val_accuracy: 0.3135\n",
            "Epoch 64/100\n",
            "14/14 [==============================] - 0s 2ms/step - loss: nan - accuracy: 0.3124 - val_loss: nan - val_accuracy: 0.3135\n",
            "Epoch 65/100\n",
            "14/14 [==============================] - 0s 3ms/step - loss: nan - accuracy: 0.3124 - val_loss: nan - val_accuracy: 0.3135\n",
            "Epoch 66/100\n",
            "14/14 [==============================] - 0s 2ms/step - loss: nan - accuracy: 0.3124 - val_loss: nan - val_accuracy: 0.3135\n",
            "Epoch 67/100\n",
            "14/14 [==============================] - 0s 2ms/step - loss: nan - accuracy: 0.3124 - val_loss: nan - val_accuracy: 0.3135\n",
            "Epoch 68/100\n",
            "14/14 [==============================] - 0s 2ms/step - loss: nan - accuracy: 0.3124 - val_loss: nan - val_accuracy: 0.3135\n",
            "Epoch 69/100\n",
            "14/14 [==============================] - 0s 2ms/step - loss: nan - accuracy: 0.3124 - val_loss: nan - val_accuracy: 0.3135\n",
            "Epoch 70/100\n",
            "14/14 [==============================] - 0s 2ms/step - loss: nan - accuracy: 0.3124 - val_loss: nan - val_accuracy: 0.3135\n",
            "Epoch 71/100\n",
            "14/14 [==============================] - 0s 2ms/step - loss: nan - accuracy: 0.3124 - val_loss: nan - val_accuracy: 0.3135\n",
            "Epoch 72/100\n",
            "14/14 [==============================] - 0s 2ms/step - loss: nan - accuracy: 0.3124 - val_loss: nan - val_accuracy: 0.3135\n",
            "Epoch 73/100\n",
            "14/14 [==============================] - 0s 2ms/step - loss: nan - accuracy: 0.3124 - val_loss: nan - val_accuracy: 0.3135\n",
            "Epoch 74/100\n",
            "14/14 [==============================] - 0s 2ms/step - loss: nan - accuracy: 0.3124 - val_loss: nan - val_accuracy: 0.3135\n",
            "Epoch 75/100\n",
            "14/14 [==============================] - 0s 2ms/step - loss: nan - accuracy: 0.3124 - val_loss: nan - val_accuracy: 0.3135\n",
            "Epoch 76/100\n",
            "14/14 [==============================] - 0s 2ms/step - loss: nan - accuracy: 0.3124 - val_loss: nan - val_accuracy: 0.3135\n",
            "Epoch 77/100\n",
            "14/14 [==============================] - 0s 2ms/step - loss: nan - accuracy: 0.3124 - val_loss: nan - val_accuracy: 0.3135\n",
            "Epoch 78/100\n",
            "14/14 [==============================] - 0s 2ms/step - loss: nan - accuracy: 0.3124 - val_loss: nan - val_accuracy: 0.3135\n",
            "Epoch 79/100\n",
            "14/14 [==============================] - 0s 2ms/step - loss: nan - accuracy: 0.3124 - val_loss: nan - val_accuracy: 0.3135\n",
            "Epoch 80/100\n",
            "14/14 [==============================] - 0s 2ms/step - loss: nan - accuracy: 0.3124 - val_loss: nan - val_accuracy: 0.3135\n",
            "Epoch 81/100\n",
            "14/14 [==============================] - 0s 3ms/step - loss: nan - accuracy: 0.3124 - val_loss: nan - val_accuracy: 0.3135\n",
            "Epoch 82/100\n",
            "14/14 [==============================] - 0s 3ms/step - loss: nan - accuracy: 0.3124 - val_loss: nan - val_accuracy: 0.3135\n",
            "Epoch 83/100\n",
            "14/14 [==============================] - 0s 3ms/step - loss: nan - accuracy: 0.3124 - val_loss: nan - val_accuracy: 0.3135\n",
            "Epoch 84/100\n",
            "14/14 [==============================] - 0s 2ms/step - loss: nan - accuracy: 0.3124 - val_loss: nan - val_accuracy: 0.3135\n",
            "Epoch 85/100\n",
            "14/14 [==============================] - 0s 3ms/step - loss: nan - accuracy: 0.3124 - val_loss: nan - val_accuracy: 0.3135\n",
            "Epoch 86/100\n",
            "14/14 [==============================] - 0s 2ms/step - loss: nan - accuracy: 0.3124 - val_loss: nan - val_accuracy: 0.3135\n",
            "Epoch 87/100\n",
            "14/14 [==============================] - 0s 3ms/step - loss: nan - accuracy: 0.3124 - val_loss: nan - val_accuracy: 0.3135\n",
            "Epoch 88/100\n",
            "14/14 [==============================] - 0s 2ms/step - loss: nan - accuracy: 0.3124 - val_loss: nan - val_accuracy: 0.3135\n",
            "Epoch 89/100\n",
            "14/14 [==============================] - 0s 3ms/step - loss: nan - accuracy: 0.3124 - val_loss: nan - val_accuracy: 0.3135\n",
            "Epoch 90/100\n",
            "14/14 [==============================] - 0s 2ms/step - loss: nan - accuracy: 0.3124 - val_loss: nan - val_accuracy: 0.3135\n",
            "Epoch 91/100\n",
            "14/14 [==============================] - 0s 2ms/step - loss: nan - accuracy: 0.3124 - val_loss: nan - val_accuracy: 0.3135\n",
            "Epoch 92/100\n",
            "14/14 [==============================] - 0s 2ms/step - loss: nan - accuracy: 0.3124 - val_loss: nan - val_accuracy: 0.3135\n",
            "Epoch 93/100\n",
            "14/14 [==============================] - 0s 2ms/step - loss: nan - accuracy: 0.3124 - val_loss: nan - val_accuracy: 0.3135\n",
            "Epoch 94/100\n",
            "14/14 [==============================] - 0s 2ms/step - loss: nan - accuracy: 0.3124 - val_loss: nan - val_accuracy: 0.3135\n",
            "Epoch 95/100\n",
            "14/14 [==============================] - 0s 2ms/step - loss: nan - accuracy: 0.3124 - val_loss: nan - val_accuracy: 0.3135\n",
            "Epoch 96/100\n",
            "14/14 [==============================] - 0s 2ms/step - loss: nan - accuracy: 0.3124 - val_loss: nan - val_accuracy: 0.3135\n",
            "Epoch 97/100\n",
            "14/14 [==============================] - 0s 2ms/step - loss: nan - accuracy: 0.3124 - val_loss: nan - val_accuracy: 0.3135\n",
            "Epoch 98/100\n",
            "14/14 [==============================] - 0s 2ms/step - loss: nan - accuracy: 0.3124 - val_loss: nan - val_accuracy: 0.3135\n",
            "Epoch 99/100\n",
            "14/14 [==============================] - 0s 2ms/step - loss: nan - accuracy: 0.3124 - val_loss: nan - val_accuracy: 0.3135\n",
            "Epoch 100/100\n",
            "14/14 [==============================] - 0s 2ms/step - loss: nan - accuracy: 0.3124 - val_loss: nan - val_accuracy: 0.3135\n"
          ],
          "name": "stdout"
        }
      ]
    },
    {
      "cell_type": "code",
      "metadata": {
        "id": "GY3zE0gcv5ud",
        "colab": {
          "base_uri": "https://localhost:8080/",
          "height": 68
        },
        "outputId": "398caf9c-ed6f-4ace-c68a-185d3c0d4a61"
      },
      "source": [
        "prediction = model.predict_classes(x_test)\n",
        "accuracy_score (y_test,prediction)"
      ],
      "execution_count": null,
      "outputs": [
        {
          "output_type": "stream",
          "text": [
            "/usr/local/lib/python3.6/dist-packages/tensorflow/python/keras/engine/sequential.py:457: RuntimeWarning: invalid value encountered in greater\n",
            "  return (proba > 0.5).astype('int32')\n"
          ],
          "name": "stderr"
        },
        {
          "output_type": "execute_result",
          "data": {
            "text/plain": [
              "0.31351351351351353"
            ]
          },
          "metadata": {
            "tags": []
          },
          "execution_count": 67
        }
      ]
    },
    {
      "cell_type": "code",
      "metadata": {
        "id": "ibyz0dsFwncT",
        "colab": {
          "base_uri": "https://localhost:8080/",
          "height": 282
        },
        "outputId": "21f4b4dd-5038-4036-a558-24db4c6063b7"
      },
      "source": [
        "plt.plot(model_history.history['loss'])\n",
        "plt.plot(model_history.history['val_loss'])"
      ],
      "execution_count": null,
      "outputs": [
        {
          "output_type": "execute_result",
          "data": {
            "text/plain": [
              "[<matplotlib.lines.Line2D at 0x7f3e4b1e3320>]"
            ]
          },
          "metadata": {
            "tags": []
          },
          "execution_count": 68
        },
        {
          "output_type": "display_data",
          "data": {
            "image/png": "[encoded data removed]",
            "text/plain": [
              "<Figure size 432x288 with 1 Axes>"
            ]
          },
          "metadata": {
            "tags": [],
            "needs_background": "light"
          }
        }
      ]
    }
  ]
}